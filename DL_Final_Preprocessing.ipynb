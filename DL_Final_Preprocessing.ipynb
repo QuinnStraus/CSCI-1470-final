{
  "nbformat": 4,
  "nbformat_minor": 0,
  "metadata": {
    "colab": {
      "name": "DL Final Preprocessing.ipynb",
      "provenance": [],
      "collapsed_sections": [],
      "include_colab_link": true
    },
    "kernelspec": {
      "name": "python3",
      "display_name": "Python 3"
    },
    "language_info": {
      "name": "python"
    }
  },
  "cells": [
    {
      "cell_type": "markdown",
      "metadata": {
        "id": "view-in-github",
        "colab_type": "text"
      },
      "source": [
        "<a href=\"https://colab.research.google.com/github/QuinnStraus/CSCI-1470-final/blob/main/DL_Final_Preprocessing.ipynb\" target=\"_parent\"><img src=\"https://colab.research.google.com/assets/colab-badge.svg\" alt=\"Open In Colab\"/></a>"
      ]
    },
    {
      "cell_type": "code",
      "metadata": {
        "colab": {
          "base_uri": "https://localhost:8080/"
        },
        "id": "X_VW1PbEcO_I",
        "outputId": "01b9b8ea-3c78-417d-85ca-b8512c7297c7"
      },
      "source": [
        "pip install pypianoroll"
      ],
      "execution_count": 7,
      "outputs": [
        {
          "output_type": "stream",
          "name": "stdout",
          "text": [
            "Collecting pypianoroll\n",
            "  Downloading pypianoroll-1.0.4-py3-none-any.whl (26 kB)\n",
            "Requirement already satisfied: numpy>=1.12.0 in /usr/local/lib/python3.7/dist-packages (from pypianoroll) (1.19.5)\n",
            "Collecting pretty-midi>=0.2.8\n",
            "  Downloading pretty_midi-0.2.9.tar.gz (5.6 MB)\n",
            "\u001b[K     |████████████████████████████████| 5.6 MB 6.4 MB/s \n",
            "\u001b[?25hRequirement already satisfied: matplotlib>=1.5 in /usr/local/lib/python3.7/dist-packages (from pypianoroll) (3.2.2)\n",
            "Requirement already satisfied: scipy>=1.0.0 in /usr/local/lib/python3.7/dist-packages (from pypianoroll) (1.4.1)\n",
            "Requirement already satisfied: kiwisolver>=1.0.1 in /usr/local/lib/python3.7/dist-packages (from matplotlib>=1.5->pypianoroll) (1.3.2)\n",
            "Requirement already satisfied: cycler>=0.10 in /usr/local/lib/python3.7/dist-packages (from matplotlib>=1.5->pypianoroll) (0.11.0)\n",
            "Requirement already satisfied: python-dateutil>=2.1 in /usr/local/lib/python3.7/dist-packages (from matplotlib>=1.5->pypianoroll) (2.8.2)\n",
            "Requirement already satisfied: pyparsing!=2.0.4,!=2.1.2,!=2.1.6,>=2.0.1 in /usr/local/lib/python3.7/dist-packages (from matplotlib>=1.5->pypianoroll) (3.0.6)\n",
            "Collecting mido>=1.1.16\n",
            "  Downloading mido-1.2.10-py2.py3-none-any.whl (51 kB)\n",
            "\u001b[K     |████████████████████████████████| 51 kB 6.2 MB/s \n",
            "\u001b[?25hRequirement already satisfied: six in /usr/local/lib/python3.7/dist-packages (from pretty-midi>=0.2.8->pypianoroll) (1.15.0)\n",
            "Building wheels for collected packages: pretty-midi\n",
            "  Building wheel for pretty-midi (setup.py) ... \u001b[?25l\u001b[?25hdone\n",
            "  Created wheel for pretty-midi: filename=pretty_midi-0.2.9-py3-none-any.whl size=5591953 sha256=fdeb3c283f86fe34a26b1469bd07a6ffaf931fa9f96398aa46e053b93b17c3e0\n",
            "  Stored in directory: /root/.cache/pip/wheels/ad/74/7c/a06473ca8dcb63efb98c1e67667ce39d52100f837835ea18fa\n",
            "Successfully built pretty-midi\n",
            "Installing collected packages: mido, pretty-midi, pypianoroll\n",
            "Successfully installed mido-1.2.10 pretty-midi-0.2.9 pypianoroll-1.0.4\n"
          ]
        }
      ]
    },
    {
      "cell_type": "code",
      "metadata": {
        "id": "tKhP0KJ0TX-Y"
      },
      "source": [
        "import pypianoroll\n",
        "import os\n",
        "import pandas as pd\n",
        "import tensorflow as tf\n",
        "import numpy as np\n",
        "import json\n",
        "import math\n",
        "from music21 import *\n",
        "import pdb\n"
      ],
      "execution_count": 76,
      "outputs": []
    },
    {
      "cell_type": "code",
      "metadata": {
        "colab": {
          "base_uri": "https://localhost:8080/"
        },
        "id": "SvcFgJKTzArr",
        "outputId": "5515a3ba-29cf-4379-f24b-441e94f2b6af"
      },
      "source": [
        "from google.colab import drive\n",
        "drive.mount(\"/content/gdrive/\")"
      ],
      "execution_count": 9,
      "outputs": [
        {
          "output_type": "stream",
          "name": "stdout",
          "text": [
            "Mounted at /content/gdrive/\n"
          ]
        }
      ]
    },
    {
      "cell_type": "code",
      "metadata": {
        "colab": {
          "base_uri": "https://localhost:8080/"
        },
        "id": "xI4sE-8U0HC1",
        "outputId": "b187f75e-c344-4a89-e6cc-66eaac511ff6"
      },
      "source": [
        "!ls 'gdrive/Shared drives/CSCI1470 Final Project'\n",
        "root_dir = 'gdrive/Shared drives/CSCI1470 Final Project'\n",
        "data_dir = 'gdrive/Shared drives/CSCI1470 Final Project/lpd_5/lpd_5_cleansed'\n",
        "\n"
      ],
      "execution_count": 10,
      "outputs": [
        {
          "output_type": "stream",
          "name": "stdout",
          "text": [
            " cleansed_ids.txt\t\t   lpd_5\t    msd_tagtraum_cd1.cls\n",
            "'Final Write Up Reflection.gdoc'   midi_info.json   songs.txt\n"
          ]
        }
      ]
    },
    {
      "cell_type": "code",
      "metadata": {
        "id": "ACFCc8tUVr7D"
      },
      "source": [
        "# Creates dict of song IDs with genres\n",
        "\n",
        "genre_file_dir = os.path.join(root_dir, 'msd_tagtraum_cd1.cls')\n",
        "ids = []\n",
        "genres = []\n",
        "with open(genre_file_dir) as f:\n",
        "    line = f.readline()\n",
        "    while line:\n",
        "        if line[0] != '#':\n",
        "            split = line.strip().split(\"\\t\")\n",
        "            if len(split) == 2:\n",
        "                ids.append(split[0])\n",
        "                genres.append(split[1])\n",
        "            elif len(split) == 3:\n",
        "                ids.append(split[0]) \n",
        "                ids.append(split[0])\n",
        "                genres.append(split[1])\n",
        "                genres.append(split[2])\n",
        "        line = f.readline()\n",
        "genre_df = pd.DataFrame(data={\"TrackID\": ids, \"Genre\": genres})\n",
        "\n",
        "genre_dict = genre_df.groupby('TrackID')['Genre'].apply(lambda x: x.tolist()).to_dict()"
      ],
      "execution_count": 11,
      "outputs": []
    },
    {
      "cell_type": "code",
      "metadata": {
        "colab": {
          "base_uri": "https://localhost:8080/"
        },
        "id": "3r-a33h7cHgi",
        "outputId": "86317fa7-ce56-45a9-e301-e2d9b99c128b"
      },
      "source": [
        "print(len(genre_dict))\n",
        "print(genre_dict['TRAAAAK128F9318786'])"
      ],
      "execution_count": 12,
      "outputs": [
        {
          "output_type": "stream",
          "name": "stdout",
          "text": [
            "133676\n",
            "['Pop_Rock']\n"
          ]
        }
      ]
    },
    {
      "cell_type": "code",
      "metadata": {
        "colab": {
          "base_uri": "https://localhost:8080/"
        },
        "id": "8nOgjWm-ekwJ",
        "outputId": "228d692e-74b9-4a9e-b6d8-925ba9bcffab"
      },
      "source": [
        "# copied the path functions from the article\n",
        "# Utility functions for retrieving paths\n",
        "def msd_id_to_dirs(msd_id):\n",
        "    \"\"\"Given an MSD ID, generate the path prefix.\n",
        "    E.g. TRABCD12345678 -> A/B/C/TRABCD12345678\"\"\"\n",
        "    return os.path.join(msd_id[2], msd_id[3], msd_id[4], msd_id)\n",
        "\n",
        "# Load the midi npz file from the LMD cleansed folder\n",
        "def get_midi_npz_path(msd_id, midi_md5):\n",
        "    return os.path.join(data_dir,\n",
        "                        msd_id_to_dirs(msd_id), midi_md5 + '.npz')\n",
        "    \n",
        "# Load the midi file from the Music Dataset folder\n",
        "#def get_midi_path(msd_id, midi_md5):\n",
        "#    return os.path.join(music_dataset_lpd_dir,\n",
        "#                        msd_id_to_dirs(msd_id), midi_md5 + '.mid')\n",
        "    \n",
        "# Open the cleansed ids - cleansed file ids : msd ids\n",
        "cleansed_ids = pd.read_csv(os.path.join(root_dir, 'cleansed_ids.txt'), delimiter = '    ', header = None)\n",
        "lpd_to_msd_ids = {a:b for a, b in zip(cleansed_ids[0], cleansed_ids[1])}\n",
        "msd_to_lpd_ids = {a:b for a, b in zip(cleansed_ids[1], cleansed_ids[0])}\n",
        "print(len(msd_to_lpd_ids))\n",
        "\n",
        "# Creates list of all ids with Pop Rock genre tag\n",
        "\n",
        "pop_ids = {}\n",
        "for tag in msd_to_lpd_ids.keys():\n",
        "  if tag in genre_dict:\n",
        "    if 'Pop_Rock' in genre_dict.get(tag):\n",
        "      pop_ids[tag] = msd_to_lpd_ids.get(tag)\n",
        "print(len(pop_ids))\n"
      ],
      "execution_count": 13,
      "outputs": [
        {
          "output_type": "stream",
          "name": "stderr",
          "text": [
            "/usr/local/lib/python3.7/dist-packages/ipykernel_launcher.py:19: ParserWarning: Falling back to the 'python' engine because the 'c' engine does not support regex separators (separators > 1 char and different from '\\s+' are interpreted as regex); you can avoid this warning by specifying engine='python'.\n"
          ]
        },
        {
          "output_type": "stream",
          "name": "stdout",
          "text": [
            "21425\n",
            "2423\n"
          ]
        }
      ]
    },
    {
      "cell_type": "code",
      "metadata": {
        "colab": {
          "base_uri": "https://localhost:8080/",
          "height": 346
        },
        "id": "m4aAQLLNvX3-",
        "outputId": "17a8db7e-b139-477c-9f62-05d6d729bc14"
      },
      "source": [
        "# DO NOT RUN!!\n",
        "\n",
        "# converts npz files to midi files, no need to run again as all midi files already saved\n",
        "\n",
        "for msd_file_name in cleansed_ids[1]:\n",
        "  lpd_file_name = msd_to_lpd_ids[msd_file_name] \n",
        "  # msd_file_name ex: TRLOCTJ12903CDEC24, lpd_file_name: 6b16a2b1720d11263069a9a189785dfb\n",
        "  npz_path = get_midi_npz_path(msd_file_name, lpd_file_name)\n",
        "  multitrack = pypianoroll.load(npz_path)\n",
        "  pm = pypianoroll.to_pretty_midi(multitrack)\n",
        "  new_midi_path = npz_path[:-4] + '.mid'\n",
        "  pypianoroll.write(new_midi_path, multitrack)"
      ],
      "execution_count": null,
      "outputs": [
        {
          "output_type": "error",
          "ename": "KeyboardInterrupt",
          "evalue": "ignored",
          "traceback": [
            "\u001b[0;31m---------------------------------------------------------------------------\u001b[0m",
            "\u001b[0;31mKeyboardInterrupt\u001b[0m                         Traceback (most recent call last)",
            "\u001b[0;32m<ipython-input-10-779fac8dfa32>\u001b[0m in \u001b[0;36m<module>\u001b[0;34m()\u001b[0m\n\u001b[1;32m      8\u001b[0m   \u001b[0mpm\u001b[0m \u001b[0;34m=\u001b[0m \u001b[0mpypianoroll\u001b[0m\u001b[0;34m.\u001b[0m\u001b[0mto_pretty_midi\u001b[0m\u001b[0;34m(\u001b[0m\u001b[0mmultitrack\u001b[0m\u001b[0;34m)\u001b[0m\u001b[0;34m\u001b[0m\u001b[0;34m\u001b[0m\u001b[0m\n\u001b[1;32m      9\u001b[0m   \u001b[0mnew_midi_path\u001b[0m \u001b[0;34m=\u001b[0m \u001b[0mnpz_path\u001b[0m\u001b[0;34m[\u001b[0m\u001b[0;34m:\u001b[0m\u001b[0;34m-\u001b[0m\u001b[0;36m4\u001b[0m\u001b[0;34m]\u001b[0m \u001b[0;34m+\u001b[0m \u001b[0;34m'.mid'\u001b[0m\u001b[0;34m\u001b[0m\u001b[0;34m\u001b[0m\u001b[0m\n\u001b[0;32m---> 10\u001b[0;31m   \u001b[0mpypianoroll\u001b[0m\u001b[0;34m.\u001b[0m\u001b[0mwrite\u001b[0m\u001b[0;34m(\u001b[0m\u001b[0mnew_midi_path\u001b[0m\u001b[0;34m,\u001b[0m \u001b[0mmultitrack\u001b[0m\u001b[0;34m)\u001b[0m\u001b[0;34m\u001b[0m\u001b[0;34m\u001b[0m\u001b[0m\n\u001b[0m",
            "\u001b[0;32m/usr/local/lib/python3.7/dist-packages/pypianoroll/outputs.py\u001b[0m in \u001b[0;36mwrite\u001b[0;34m(path, multitrack)\u001b[0m\n\u001b[1;32m    197\u001b[0m \u001b[0;34m\u001b[0m\u001b[0m\n\u001b[1;32m    198\u001b[0m     \"\"\"\n\u001b[0;32m--> 199\u001b[0;31m     \u001b[0;32mreturn\u001b[0m \u001b[0mto_pretty_midi\u001b[0m\u001b[0;34m(\u001b[0m\u001b[0mmultitrack\u001b[0m\u001b[0;34m)\u001b[0m\u001b[0;34m.\u001b[0m\u001b[0mwrite\u001b[0m\u001b[0;34m(\u001b[0m\u001b[0mstr\u001b[0m\u001b[0;34m(\u001b[0m\u001b[0mpath\u001b[0m\u001b[0;34m)\u001b[0m\u001b[0;34m)\u001b[0m\u001b[0;34m\u001b[0m\u001b[0;34m\u001b[0m\u001b[0m\n\u001b[0m",
            "\u001b[0;32m/usr/local/lib/python3.7/dist-packages/pretty_midi/pretty_midi.py\u001b[0m in \u001b[0;36mwrite\u001b[0;34m(self, filename)\u001b[0m\n\u001b[1;32m   1414\u001b[0m         \u001b[0;32mif\u001b[0m \u001b[0misinstance\u001b[0m\u001b[0;34m(\u001b[0m\u001b[0mfilename\u001b[0m\u001b[0;34m,\u001b[0m \u001b[0msix\u001b[0m\u001b[0;34m.\u001b[0m\u001b[0mstring_types\u001b[0m\u001b[0;34m)\u001b[0m\u001b[0;34m:\u001b[0m\u001b[0;34m\u001b[0m\u001b[0;34m\u001b[0m\u001b[0m\n\u001b[1;32m   1415\u001b[0m             \u001b[0;31m# If a string was given, pass it as the string filename\u001b[0m\u001b[0;34m\u001b[0m\u001b[0;34m\u001b[0m\u001b[0;34m\u001b[0m\u001b[0m\n\u001b[0;32m-> 1416\u001b[0;31m             \u001b[0mmid\u001b[0m\u001b[0;34m.\u001b[0m\u001b[0msave\u001b[0m\u001b[0;34m(\u001b[0m\u001b[0mfilename\u001b[0m\u001b[0;34m=\u001b[0m\u001b[0mfilename\u001b[0m\u001b[0;34m)\u001b[0m\u001b[0;34m\u001b[0m\u001b[0;34m\u001b[0m\u001b[0m\n\u001b[0m\u001b[1;32m   1417\u001b[0m         \u001b[0;32melse\u001b[0m\u001b[0;34m:\u001b[0m\u001b[0;34m\u001b[0m\u001b[0;34m\u001b[0m\u001b[0m\n\u001b[1;32m   1418\u001b[0m             \u001b[0;31m# Otherwise, try passing it in as a file pointer\u001b[0m\u001b[0;34m\u001b[0m\u001b[0;34m\u001b[0m\u001b[0;34m\u001b[0m\u001b[0m\n",
            "\u001b[0;32m/usr/local/lib/python3.7/dist-packages/mido/midifiles/midifiles.py\u001b[0m in \u001b[0;36msave\u001b[0;34m(self, filename, file)\u001b[0m\n\u001b[1;32m    443\u001b[0m             \u001b[0mself\u001b[0m\u001b[0;34m.\u001b[0m\u001b[0m_save\u001b[0m\u001b[0;34m(\u001b[0m\u001b[0mfile\u001b[0m\u001b[0;34m)\u001b[0m\u001b[0;34m\u001b[0m\u001b[0;34m\u001b[0m\u001b[0m\n\u001b[1;32m    444\u001b[0m         \u001b[0;32melif\u001b[0m \u001b[0mfilename\u001b[0m \u001b[0;32mis\u001b[0m \u001b[0;32mnot\u001b[0m \u001b[0;32mNone\u001b[0m\u001b[0;34m:\u001b[0m\u001b[0;34m\u001b[0m\u001b[0;34m\u001b[0m\u001b[0m\n\u001b[0;32m--> 445\u001b[0;31m             \u001b[0;32mwith\u001b[0m \u001b[0mio\u001b[0m\u001b[0;34m.\u001b[0m\u001b[0mopen\u001b[0m\u001b[0;34m(\u001b[0m\u001b[0mfilename\u001b[0m\u001b[0;34m,\u001b[0m \u001b[0;34m'wb'\u001b[0m\u001b[0;34m)\u001b[0m \u001b[0;32mas\u001b[0m \u001b[0mfile\u001b[0m\u001b[0;34m:\u001b[0m\u001b[0;34m\u001b[0m\u001b[0;34m\u001b[0m\u001b[0m\n\u001b[0m\u001b[1;32m    446\u001b[0m                 \u001b[0mself\u001b[0m\u001b[0;34m.\u001b[0m\u001b[0m_save\u001b[0m\u001b[0;34m(\u001b[0m\u001b[0mfile\u001b[0m\u001b[0;34m)\u001b[0m\u001b[0;34m\u001b[0m\u001b[0;34m\u001b[0m\u001b[0m\n\u001b[1;32m    447\u001b[0m         \u001b[0;32melse\u001b[0m\u001b[0;34m:\u001b[0m\u001b[0;34m\u001b[0m\u001b[0;34m\u001b[0m\u001b[0m\n",
            "\u001b[0;31mKeyboardInterrupt\u001b[0m: "
          ]
        }
      ]
    },
    {
      "cell_type": "code",
      "metadata": {
        "id": "X3mSMI3i4Me4"
      },
      "source": [
        "# Old preprocessing function, not used\n",
        "\n",
        "# save songs to text file after tokenizing the midi files\n",
        "allSongs = []\n",
        "stopInd = 2\n",
        "song_ind=0\n",
        "# f = open(os.path.join(root_dir, \"songs.txt\"), \"w\")\n",
        "for msd_file_name in cleansed_ids[1]:\n",
        "  print(msd_file_name)\n",
        "  elt_ind = 0\n",
        "  lpd_file_name = msd_to_lpd_ids[msd_file_name]\n",
        "  npz_path = get_midi_npz_path(msd_file_name, lpd_file_name)\n",
        "  new_midi_path = npz_path[:-4] + '.mid'\n",
        "  print(\"loaded data\")\n",
        "  midi = converter.parse(new_midi_path)\n",
        "  #print(\"opened file\")\n",
        "  #open midi file and select piano part\n",
        "  for part in instrument.partitionByInstrument(midi):\n",
        "    if part.getInstrument().instrumentName == 'Piano':\n",
        "      curSong = []\n",
        "      #add notes, chords, and rests to list of strings\n",
        "      for i in range(min(len(part), WINDOW_SZ)):\n",
        "        elt = part[i]\n",
        "        if isinstance(elt, note.Note):\n",
        "          toWrite = str(elt.pitch) + 'd' + str(elt.duration)[27:-1] + ' br '\n",
        "          curSong.append(toWrite)\n",
        "          # f.write(toWrite)\n",
        "        elif isinstance(elt, chord.Chord):\n",
        "          dur = str(elt.duration)[27:-1]\n",
        "          if dur == '0.0' and isinstance(part[elt_ind+1], note.Rest):\n",
        "              dur = str(part[elt_ind+1].duration)[27:-1]\n",
        "          toWrite = ''\n",
        "          for nt in elt.pitches:\n",
        "            toWrite += str(nt) + 'd' + dur + ' '\n",
        "          toWrite += ' br '\n",
        "          # f.write(toWrite)\n",
        "        elt_ind += 1\n",
        "  song_ind+=1\n",
        "  # f.write('\\n')\n",
        "  if song_ind % stopInd == 0:\n",
        "    print(song_ind)\n",
        "    # f.close()\n",
        "    break"
      ],
      "execution_count": null,
      "outputs": []
    },
    {
      "cell_type": "code",
      "metadata": {
        "id": "mLwOXh1RW5sV"
      },
      "source": [
        "# These hyperparameters determine what section of the song is encoded\n",
        "\n",
        "START_IND = 0\n",
        "NUM_TOKENS = 210\n",
        "\n",
        "# Converts file name to pypianoroll\n",
        "def get_midi(msd):\n",
        "  lpd_file_name = pop_ids[msd]\n",
        "  npz_path = get_midi_npz_path(msd, lpd_file_name)\n",
        "  new_midi_path = npz_path[:-4] + '.npz'\n",
        "  return(pypianoroll.load(new_midi_path))\n",
        "\n",
        "# Helper function that combines instruments, returns matrix of pitches\n",
        "def merge_instruments(multitrack):\n",
        "  size = multitrack.get_max_length()\n",
        "  out = np.zeros([size, 128])\n",
        "  for track in multitrack.pad_to_same().tracks:\n",
        "    if track.is_drum == False:\n",
        "      out += track\n",
        "  return out\n",
        "\n",
        "# Helper function that takes an array of notes and converts into string of tokens of pitch and duration\n",
        "def tokenize(part, spaces = False): \n",
        "  if spaces:\n",
        "    space = ' '\n",
        "  else:\n",
        "    space = ''\n",
        "  out = ''\n",
        "  br_count = 0\n",
        "  tokens = 0\n",
        "  note = START_IND\n",
        "  # Counts out and produces tokens\n",
        "  while tokens <= NUM_TOKENS and note < len(part):\n",
        "    out_note = ''\n",
        "    pitches = part[note].nonzero()[0]\n",
        "    for pitch in pitches:\n",
        "      if note == START_IND or part[note - 1, pitch] == 0:\n",
        "        duration = 1\n",
        "        holding = True\n",
        "        # Find duration of note\n",
        "        while holding:\n",
        "          if note + duration < len(part):\n",
        "            if part[note + duration, pitch] != 0:\n",
        "              duration += 1\n",
        "            else:\n",
        "              holding = False\n",
        "          else:\n",
        "            holding = False\n",
        "        out_note += str(pitch) + space + 'd' + str(duration) + ' '\n",
        "        if spaces:\n",
        "          tokens += 2\n",
        "        else:\n",
        "          tokens += 1\n",
        "    # Add breaks\n",
        "    if out_note != '':\n",
        "      if br_count != 0:\n",
        "        out_note = 'br' + space + 'd' + str(br_count) + ' ' + out_note\n",
        "        br_count = 0\n",
        "        if spaces:\n",
        "          tokens += 2\n",
        "        else:\n",
        "          tokens += 1\n",
        "    br_count += 1\n",
        "    out += out_note\n",
        "    note += 1\n",
        "  return out"
      ],
      "execution_count": 74,
      "outputs": []
    },
    {
      "cell_type": "code",
      "metadata": {
        "id": "Wsg9vzHvkKIW",
        "colab": {
          "base_uri": "https://localhost:8080/"
        },
        "outputId": "ef978a4b-cc4c-465d-831a-fef71d923fb1"
      },
      "source": [
        "# pypianoroll converting files to tokens\n",
        "\n",
        "# save songs to text file after tokenizing the midi files\n",
        "allSongs = []\n",
        "stopInd = 50\n",
        "song_ind = 0\n",
        "f = open(os.path.join(root_dir, \"songs.txt\"), \"w\")\n",
        "for msd in pop_ids.keys():\n",
        "  elt_ind = 0\n",
        "  midi = get_midi(msd)\n",
        "  if song_ind %10 == 0: \n",
        "    print(song_ind)\n",
        "  #open midi file and select piano part\n",
        "  res = 8\n",
        "  rolls = midi.set_resolution(res)\n",
        "  part = merge_instruments(rolls)\n",
        "  #pypianoroll.plot(pypianoroll.StandardTrack(pianoroll = part[10*4*res:15*4*res]))\n",
        "  output = tokenize(part, spaces = False)\n",
        "  if output != '':\n",
        "    f.write(output)\n",
        "    f.write('\\n') \n",
        "  song_ind+=1\n",
        "  if song_ind % stopInd == 0:\n",
        "    print(song_ind)\n",
        "    f.close()\n",
        "    break"
      ],
      "execution_count": 79,
      "outputs": [
        {
          "output_type": "stream",
          "name": "stdout",
          "text": [
            "0\n",
            "10\n",
            "20\n",
            "30\n",
            "40\n",
            "50\n"
          ]
        }
      ]
    },
    {
      "cell_type": "code",
      "metadata": {
        "id": "rkA0PcdBSMmE"
      },
      "source": [
        "# Takes in a string of tokens representing one song, transforms into a pianoroll matrix\n",
        "def token_to_music(tokens):\n",
        "  token_list = tokens.split()\n",
        "  mat = np.full([1, 128], False)\n",
        "  note = 0\n",
        "  for tk in token_list:\n",
        "    pitch = tk.split('d')[0]\n",
        "    dur = int(tk.split('d')[1])\n",
        "    if pitch == 'br':\n",
        "      note += dur\n",
        "    else:\n",
        "      for i in range(dur):\n",
        "        while note + i >= mat.shape[0]:\n",
        "          mat = np.append(mat, np.full([1, 128], False), axis = 0)\n",
        "        mat[note + i, int(pitch)] = True\n",
        "  return mat"
      ],
      "execution_count": 58,
      "outputs": []
    },
    {
      "cell_type": "code",
      "metadata": {
        "id": "cMPRx6CDTbZ_"
      },
      "source": [
        "# Tests token_to_music\n",
        "song_ind = 0\n",
        "for msd in pop_ids.keys():\n",
        "  print(msd)\n",
        "  roll = get_midi('TRUZHFD128F429C33B')\n",
        "  roll = roll.set_resolution(4)\n",
        "  part = merge_instruments(roll)[0:80]\n",
        "  tokenized = tokenize(part)\n",
        "  other_roll = pypianoroll.binarize(pypianoroll.Track(pianoroll = part)).pianoroll\n",
        "  #print(token_to_music(tokenized).shape)\n",
        "  #print(other_roll)\n",
        "  print(np.all(token_to_music(tokenized) == other_roll))\n",
        "  song_ind += 1\n",
        "  if song_ind % 10 == 0:\n",
        "    break"
      ],
      "execution_count": null,
      "outputs": []
    },
    {
      "cell_type": "code",
      "source": [
        "track = pypianoroll.BinaryTrack(pianoroll=token_to_music(\"\") #fill in \"\" with tokens \n",
        "pypianoroll.write(os.path.join(root_dir, \"output.mid\"), track))"
      ],
      "metadata": {
        "id": "Ryf1m9qAfn0O"
      },
      "execution_count": null,
      "outputs": []
    }
  ]
}